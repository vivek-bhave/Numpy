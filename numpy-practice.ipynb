{
  "nbformat": 4,
  "nbformat_minor": 0,
  "metadata": {
    "colab": {
      "provenance": [],
      "toc_visible": true,
      "authorship_tag": "ABX9TyMppgyp/5NhFjma1OjmLmZY"
    },
    "kernelspec": {
      "name": "python3",
      "display_name": "Python 3"
    },
    "language_info": {
      "name": "python"
    }
  },
  "cells": [
    {
      "cell_type": "code",
      "source": [
        "import numpy as np\n",
        "import math"
      ],
      "metadata": {
        "id": "7znJKZoHmPQo"
      },
      "execution_count": null,
      "outputs": []
    },
    {
      "cell_type": "markdown",
      "source": [
        "# Full function"
      ],
      "metadata": {
        "id": "hN9xVgeKlN2h"
      }
    },
    {
      "cell_type": "code",
      "execution_count": null,
      "metadata": {
        "colab": {
          "base_uri": "https://localhost:8080/"
        },
        "id": "dACulrdZg6bl",
        "outputId": "4c5728b9-9a82-4193-ed4e-c8f8f046b8df"
      },
      "outputs": [
        {
          "output_type": "execute_result",
          "data": {
            "text/plain": [
              "array([[5, 5, 5],\n",
              "       [5, 5, 5]])"
            ]
          },
          "metadata": {},
          "execution_count": 3
        }
      ],
      "source": [
        "# Full function filees the entore array with desired number\n",
        "# It's syntax is np.full((# of rows,# of columns),desired number)\n",
        "filled_array = np.full((2,3),5)\n",
        "filled_array"
      ]
    },
    {
      "cell_type": "markdown",
      "source": [
        "# Arange Function\n"
      ],
      "metadata": {
        "id": "HSOlHi8DlcIX"
      }
    },
    {
      "cell_type": "code",
      "source": [
        "# Arange function creates a sequence of numbers with a step\n",
        "# np.arange(start,stop,step)\n",
        "aranged_array = np.arange(1,31,3)\n",
        "aranged_array\n"
      ],
      "metadata": {
        "colab": {
          "base_uri": "https://localhost:8080/"
        },
        "id": "NKZdYtu_lvoH",
        "outputId": "b43479da-2dce-4417-8869-864e642940f6"
      },
      "execution_count": null,
      "outputs": [
        {
          "output_type": "execute_result",
          "data": {
            "text/plain": [
              "array([ 1,  4,  7, 10, 13, 16, 19, 22, 25, 28])"
            ]
          },
          "metadata": {},
          "execution_count": 4
        }
      ]
    }
  ]
}